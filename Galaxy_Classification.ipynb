{
  "nbformat": 4,
  "nbformat_minor": 0,
  "metadata": {
    "colab": {
      "name": "Galaxy_Classification.ipynb",
      "provenance": [],
      "toc_visible": true
    },
    "kernelspec": {
      "name": "python3",
      "display_name": "Python 3"
    }
  },
  "cells": [
    {
      "cell_type": "markdown",
      "metadata": {
        "id": "oPjpnKWTkrUy",
        "colab_type": "text"
      },
      "source": [
        "## **Using Decision Trees to Classify Galaxies - Arash Nourimand**\n",
        "\n",
        "Data derived from the Galaxy Zoo Citizen Science Galactic Classification project, from galaxies observed in the Sloan digital sky survey - data of galaxies with 80% agreement on classification is selected (link: https://www.zooniverse.org/projects/zookeeper/galaxy-zoo/classify). (inspired by Data Driven Astronomy by the University of Sydney)\n"
      ]
    },
    {
      "cell_type": "markdown",
      "metadata": {
        "id": "FgZH4H7jkbzs",
        "colab_type": "text"
      },
      "source": [
        "**Quick Notes**\n",
        "\n",
        "*Classification* = predictions are from a fixed set of classes\n",
        "\n",
        "*Regression* = prediction  corresponds to a continuum of possible values \n",
        "\n",
        "*Decision tree regression* = possible outputs are a finite set of values that correspond to the number of leaves/end points in the tree (i.e. more end points gives a good approximation of the continuum)\n"
      ]
    },
    {
      "cell_type": "markdown",
      "metadata": {
        "id": "a3kpOxNflaFe",
        "colab_type": "text"
      },
      "source": [
        "## **Dataset feature classification for the model:**\n",
        "\n",
        "\n",
        "*   *Eccentricity of the galaxy* ![](https://groklearning-cdn.com/modules/ZBL7wT9VqgcJZUBe2WDqva/eccentricity_example.png)\n",
        "*   *Colour indices* - are the same colours (u-g, g-r, r-i, and i-z) captured by the sloan digital sky survey (spiral galaxies have younger star populations/more blue and Elliptical galaxies have an older/more red) ![](https://groklearning-cdn.com/modules/y8uy8PqJcjpPE47SKB3pPA/sdss_filters.png)\n",
        "*   *Adaptive moments* - describe the shape of a galaxy (use the fourth moment here for each band)\n",
        "*   *Concentration* - is similar to the luminosity profile of the galaxy, which measures what proportion of a galaxy's total light is emitted within what radius. A simplified way to represent this is to take the ratio of the radii containing 50% and 90% of the Petrosian flux. ![](https://groklearning-cdn.com/modules/UAAhKfyAhDnQWiVUP5NMi6/concentration_example.png)\n",
        "\n",
        "\n",
        "\n",
        "\n"
      ]
    },
    {
      "cell_type": "code",
      "metadata": {
        "id": "w1yV2fXClZZR",
        "colab_type": "code",
        "colab": {}
      },
      "source": [
        "#load the data\n",
        "import numpy as np\n",
        "data_file_path = '/content/drive/My Drive/Colab Notebooks/galaxy_catalogue.npy'\n",
        "data = np.load(data_file_path)"
      ],
      "execution_count": 0,
      "outputs": []
    },
    {
      "cell_type": "code",
      "metadata": {
        "id": "LvdRlY-HnxEy",
        "colab_type": "code",
        "outputId": "19f98c95-b398-4272-b092-8331abe62ac7",
        "colab": {
          "base_uri": "https://localhost:8080/",
          "height": 85
        }
      },
      "source": [
        "#make a function to split the data by train/test\n",
        "def splitdata_train_test(data, fraction_training):\n",
        "  # first thing to do is to randomize the dataset order\n",
        "  np.random.seed(0)\n",
        "  np.random.shuffle(data)\n",
        "  #define the index to split the data and then make the train/test subsets\n",
        "  \n",
        "  split_index = int(round(fraction_training*len(data),0))\n",
        "  train = data[:split_index]\n",
        "  test = data[split_index:]\n",
        "  return (train, test)\n",
        "\n",
        "#run the function above\n",
        "fraction_training = 0.7 # fraction of data which should be in the training set\n",
        "training, testing = splitdata_train_test(data, fraction_training)\n",
        "\n",
        "#show the key values\n",
        "print('Number data galaxies:', len(data))\n",
        "print('Train fraction:', fraction_training)\n",
        "print('Number of galaxies in training set:', len(training))\n",
        "print('Number of galaxies in testing set:', len(testing))"
      ],
      "execution_count": 0,
      "outputs": [
        {
          "output_type": "stream",
          "text": [
            "Number data galaxies: 780\n",
            "Train fraction: 0.7\n",
            "Number of galaxies in training set: 546\n",
            "Number of galaxies in testing set: 234\n"
          ],
          "name": "stdout"
        }
      ]
    },
    {
      "cell_type": "code",
      "metadata": {
        "id": "ODNJPxFwoGgx",
        "colab_type": "code",
        "outputId": "0febd3cf-92cf-454a-ce7e-ef5cc04da766",
        "colab": {
          "base_uri": "https://localhost:8080/",
          "height": 51
        }
      },
      "source": [
        "#make a function to define the features used for the model\n",
        "\n",
        "def generate_features_targets(data):\n",
        "  targets = data['class'] #target is the galaxy class\n",
        "  features = np.empty(shape=(len(data), 13)) #make an empty numpy array to store the needed feature data\n",
        "\n",
        "  #extract the features from the data and add to the feature array (color channels, eccentricity, adaptive moments, concentrations)\n",
        "  features[:, 0] = data['u-g']\n",
        "  features[:, 1] = data['g-r']\n",
        "  features[:, 2] = data['r-i']\n",
        "  features[:, 3] = data['i-z']\n",
        "  features[:, 4] = data['ecc']\n",
        "  features[:, 5] = data['m4_u']\n",
        "  features[:, 6] = data['m4_g']\n",
        "  features[:, 7] = data['m4_r']\n",
        "  features[:, 8] = data['m4_i']\n",
        "  features[:, 9] = data['m4_z']\n",
        "  features[:, 10] = data['petroR50_u']/data['petroR90_u']\n",
        "  features[:, 11] = data['petroR50_r']/data['petroR90_r']\n",
        "  features[:, 12] = data['petroR50_z']/data['petroR90_z']\n",
        "\n",
        "  return features, targets\n",
        "\n",
        "#run and show the values of the features and the targets\n",
        "features, targets = generate_features_targets(data)\n",
        "print(\"Features shape:\", features.shape)\n",
        "print(\"Targets shape:\", targets.shape)"
      ],
      "execution_count": 0,
      "outputs": [
        {
          "output_type": "stream",
          "text": [
            "Features shape: (780, 13)\n",
            "Targets shape: (780,)\n"
          ],
          "name": "stdout"
        }
      ]
    },
    {
      "cell_type": "code",
      "metadata": {
        "id": "wwnLTggZorzp",
        "colab_type": "code",
        "outputId": "3199b112-5fd9-4de5-ef27-5813d03b9e66",
        "colab": {
          "base_uri": "https://localhost:8080/",
          "height": 255
        }
      },
      "source": [
        "#start by training a standard decision tree classifier\n",
        "from sklearn.tree import DecisionTreeClassifier\n",
        "\n",
        "#make a function to declare a model and then train and then predict from the data - useful if other models are to be tested\n",
        "def predict_actual(model, data):\n",
        "  # split the data into training and testing sets using a training fraction of 0.7\n",
        "  train, test = splitdata_train_test(data, fraction_training = 0.7)\n",
        "  \n",
        "  # generate the feature and targets for the training and test sets\n",
        "  train_features, train_targets = generate_features_targets(train)\n",
        "  test_features, test_targets = generate_features_targets(test)\n",
        "  \n",
        "  # train the classifier with the train_features and train_targets and get the predictions for the test features\n",
        "  model.fit(train_features, train_targets)\n",
        "  predictions = model.predict(test_features)\n",
        "  \n",
        "  return (predictions, test_targets) # return the predictions and the test_targets\n",
        "\n",
        "# Function to check accuracy\n",
        "def calculate_accuracy(predicted, actual):\n",
        "  n = len(predicted)\n",
        "  correct = 0\n",
        "  for i in range(n):\n",
        "    if predicted[i] == actual[i]:\n",
        "      correct = correct+1\n",
        "  return (correct/n)    \n",
        "\n",
        "#run the model and generate the score\n",
        "model = DecisionTreeClassifier()\n",
        "pred, actual = predict_actual(model, data)\n",
        "model_score = calculate_accuracy(pred, actual)\n",
        "print(\"Accuracy score:\", model_score)\n",
        "print(\"\\nInitial results:\\n   predicted,  actual\")\n",
        "for i in range(10):\n",
        "  print(\"{}. {}, {}\".format(i, pred[i], actual[i]))"
      ],
      "execution_count": 0,
      "outputs": [
        {
          "output_type": "stream",
          "text": [
            "Accuracy score: 0.7905982905982906\n",
            "\n",
            "Initial results:\n",
            "   predicted,  actual\n",
            "0. spiral, spiral\n",
            "1. spiral, merger\n",
            "2. merger, merger\n",
            "3. merger, merger\n",
            "4. spiral, spiral\n",
            "5. elliptical, elliptical\n",
            "6. merger, merger\n",
            "7. merger, merger\n",
            "8. spiral, spiral\n",
            "9. elliptical, merger\n"
          ],
          "name": "stdout"
        }
      ]
    },
    {
      "cell_type": "code",
      "metadata": {
        "id": "unopt25Cq-nQ",
        "colab_type": "code",
        "outputId": "83b9145c-6c6e-44ee-e361-1d2c024f2bb7",
        "colab": {
          "base_uri": "https://localhost:8080/",
          "height": 34
        }
      },
      "source": [
        "#improve the existing model by implementing kfold cross validation\n",
        "from sklearn.model_selection import cross_val_predict\n",
        "\n",
        "modelx = DecisionTreeClassifier()\n",
        "features, targets = generate_features_targets(data)\n",
        "pred2 = cross_val_predict(model, features, targets, cv=10) #perform the same prediction using 10 folds in cross validation\n",
        "\n",
        "model_score2 = calculate_accuracy(pred2, targets)\n",
        "print(\"Accuracy score:\", model_score2)"
      ],
      "execution_count": 0,
      "outputs": [
        {
          "output_type": "stream",
          "text": [
            "Accuracy score: 0.8128205128205128\n"
          ],
          "name": "stdout"
        }
      ]
    },
    {
      "cell_type": "code",
      "metadata": {
        "id": "jkSbI1GmtGwT",
        "colab_type": "code",
        "outputId": "fbe67f89-4244-4d49-8de3-e2be4e2e0950",
        "colab": {
          "base_uri": "https://localhost:8080/",
          "height": 379
        }
      },
      "source": [
        "import itertools\n",
        "from matplotlib import pyplot as plt\n",
        "\n",
        "#confusion matrix code derived from scikit learn site\n",
        "def plot_confusion_matrix(cm, classes,\n",
        "                          normalize=False,\n",
        "                          title='Confusion matrix',\n",
        "                          cmap=plt.cm.Blues):\n",
        "    \"\"\"\n",
        "    This function prints and plots the confusion matrix.\n",
        "    Normalization can be applied by setting `normalize=True`.\n",
        "    \"\"\"\n",
        "    plt.imshow(cm, interpolation='nearest', cmap=cmap)\n",
        "    plt.title(title)\n",
        "    plt.colorbar()\n",
        "    tick_marks = np.arange(len(classes))\n",
        "    plt.xticks(tick_marks, classes, rotation=45)\n",
        "    plt.yticks(tick_marks, classes)\n",
        "\n",
        "    if normalize:\n",
        "        cm = cm.astype('float') / cm.sum(axis=1)[:, np.newaxis]\n",
        "        print(\"Normalized confusion matrix\")\n",
        "    else:\n",
        "        print('Confusion matrix, without normalization')\n",
        "\n",
        "    print(cm)\n",
        "\n",
        "    thresh = cm.max() / 2.\n",
        "    for i, j in itertools.product(range(cm.shape[0]), range(cm.shape[1])):\n",
        "        plt.text(j, i, \"{}\".format(cm[i, j]),\n",
        "                 horizontalalignment=\"center\",\n",
        "                 color=\"white\" if cm[i, j] > thresh else \"black\")\n",
        "\n",
        "    plt.tight_layout()\n",
        "    plt.ylabel('True Class')\n",
        "    plt.xlabel('Predicted Class')\n",
        "\n",
        "  \n",
        "# calculate the models confusion matrix using sklearns confusion_matrix function\n",
        "class_labels = list(set(targets))\n",
        "model_cm = confusion_matrix(y_true=targets, y_pred=pred2, labels=class_labels)\n",
        "\n",
        "# Plot the confusion matrix using the provided functions.\n",
        "plt.figure()\n",
        "plot_confusion_matrix(model_cm, classes=class_labels, normalize=False)\n",
        "plt.show()"
      ],
      "execution_count": 0,
      "outputs": [
        {
          "output_type": "stream",
          "text": [
            "Confusion matrix, without normalization\n",
            "[[203  55   2]\n",
            " [ 48 192  20]\n",
            " [  3  18 239]]\n"
          ],
          "name": "stdout"
        },
        {
          "output_type": "display_data",
          "data": {
            "image/png": "[encoded data removed]",
            "text/plain": [
              "<Figure size 432x288 with 2 Axes>"
            ]
          },
          "metadata": {
            "tags": [],
            "needs_background": "light"
          }
        }
      ]
    },
    {
      "cell_type": "code",
      "metadata": {
        "id": "EbeAgbhsuGzp",
        "colab_type": "code",
        "outputId": "84286a67-ec43-408d-b7d9-cd277c8b857f",
        "colab": {
          "base_uri": "https://localhost:8080/",
          "height": 413
        }
      },
      "source": [
        "#Attempt a random forest which is an ensemble method of a variety of trees wherein the output is the majority classification\n",
        "from sklearn.ensemble import RandomForestClassifier\n",
        "\n",
        "rfcv = RandomForestClassifier(n_estimators = 50) #nestimators is the number of trees\n",
        "features, targets = generate_features_targets(data)\n",
        "predictions = cross_val_predict(rfcv, features, targets, cv=3)\n",
        "\n",
        "#test cross validated accuracy\n",
        "accuracy = calculate_accuracy(predictions, targets)\n",
        "print(\"CV Accuracy score:\", accuracy)\n",
        "\n",
        "# get the predicted and actual classes\n",
        "predrf, actual = predict_actual(rf, data)\n",
        "\n",
        "# calculate the model score using your function\n",
        "accuracyrf = calculate_accuracy(predrf, actual)\n",
        "print(\"Generic Accuracy score:\", accuracyrf)\n",
        "\n",
        "# calculate the models confusion matrix using sklearns confusion_matrix function\n",
        "class_labels = list(set(actual))\n",
        "model_cm = confusion_matrix(y_true=actual, y_pred=pred3, labels=class_labels)\n",
        "\n",
        "# plot the confusion matrix using the provided functions.\n",
        "plt.figure()\n",
        "plot_confusion_matrix(model_cm, classes=class_labels, normalize=False)\n",
        "plt.show()"
      ],
      "execution_count": 0,
      "outputs": [
        {
          "output_type": "stream",
          "text": [
            "CV Accuracy score: 0.8653846153846154\n",
            "Generic Accuracy score: 0.8974358974358975\n",
            "Confusion matrix, without normalization\n",
            "[[24 28 27]\n",
            " [23 21 27]\n",
            " [30 24 30]]\n"
          ],
          "name": "stdout"
        },
        {
          "output_type": "display_data",
          "data": {
            "image/png": "[encoded data removed]",
            "text/plain": [
              "<Figure size 432x288 with 2 Axes>"
            ]
          },
          "metadata": {
            "tags": [],
            "needs_background": "light"
          }
        }
      ]
    }
  ]
}